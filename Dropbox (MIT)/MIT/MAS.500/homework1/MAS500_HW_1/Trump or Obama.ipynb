{
 "cells": [
  {
   "cell_type": "code",
   "execution_count": 1,
   "metadata": {
    "collapsed": false
   },
   "outputs": [
    {
     "name": "stdout",
     "output_type": "stream",
     "text": [
      "Trump is mentioned for 34800 times.\n",
      "Obama is mentioned for 15235 times.\n",
      "US Mainstream Media sources talked more about Trump.\n"
     ]
    }
   ],
   "source": [
    "#Copyright (c) <2015> <Xin LIU>\n",
    "\n",
    "#Permission is hereby granted, free of charge, to any person obtaining a copy\n",
    "#of this software and associated documentation files (the \"Software\"), to deal\n",
    "#in the Software without restriction, including without limitation the rights\n",
    "#to use, copy, modify, merge, publish, distribute, sublicense, and/or sell\n",
    "#copies of the Software, and to permit persons to whom the Software is\n",
    "#furnished to do so, subject to the following conditions:\n",
    "\n",
    "#The above copyright notice and this permission notice shall be included in\n",
    "#all copies or substantial portions of the Software.\n",
    "\n",
    "#THE SOFTWARE IS PROVIDED \"AS IS\", WITHOUT WARRANTY OF ANY KIND, EXPRESS OR\n",
    "#IMPLIED, INCLUDING BUT NOT LIMITED TO THE WARRANTIES OF MERCHANTABILITY,\n",
    "#FITNESS FOR A PARTICULAR PURPOSE AND NONINFRINGEMENT.  IN NO EVENT SHALL THE\n",
    "#AUTHORS OR COPYRIGHT HOLDERS BE LIABLE FOR ANY CLAIM, DAMAGES OR OTHER\n",
    "#LIABILITY, WHETHER IN AN ACTION OF CONTRACT, TORT OR OTHERWISE, ARISING FROM,\n",
    "#OUT OF OR IN CONNECTION WITH THE SOFTWARE OR THE USE OR OTHER DEALINGS IN\n",
    "#THE SOFTWARE.\n",
    "\n",
    "import mediacloud, datetime\n",
    "mc = mediacloud.api.MediaCloud('91d1955254764f47bf3adcdc9e910e3287643d7465078a5e584b882cc5937bc6')\n",
    "Trump = mc.sentenceCount('(Trump)', solr_filter=[mc.publish_date_query( datetime.date( 2015, 8, 1), datetime.date( 2015, 8, 31) ), 'media_sets_id:1' ])\n",
    "Obama = mc.sentenceCount('(Obama)', solr_filter=[mc.publish_date_query( datetime.date( 2015, 8, 1), datetime.date( 2015, 8, 31) ), 'media_sets_id:1' ])\n",
    "print 'Trump is mentioned for',Trump['count'], 'times.'\n",
    "print 'Obama is mentioned for',Obama['count'], 'times.'\n",
    "\n",
    "if Trump['count'] > Obama['count']:\n",
    "    print 'US Mainstream Media sources talked more about Trump.'\n",
    "if Trump['count'] < Obama ['count']:\n",
    "    print'US Mainstream Media sources talked more about Obama.'\n",
    "if Trump['count'] == Obama ['count']:\n",
    "    print'US Mainstream Media sources talked equally about Trump and Obama.'"
   ]
  }
 ],
 "metadata": {
  "kernelspec": {
   "display_name": "Python 2",
   "language": "python",
   "name": "python2"
  },
  "language_info": {
   "codemirror_mode": {
    "name": "ipython",
    "version": 2
   },
   "file_extension": ".py",
   "mimetype": "text/x-python",
   "name": "python",
   "nbconvert_exporter": "python",
   "pygments_lexer": "ipython2",
   "version": "2.7.10"
  }
 },
 "nbformat": 4,
 "nbformat_minor": 0
}
